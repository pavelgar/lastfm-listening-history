{
 "cells": [
  {
   "cell_type": "code",
   "execution_count": 1,
   "metadata": {},
   "outputs": [],
   "source": [
    "import pylast\n",
    "import pandas as pd"
   ]
  },
  {
   "cell_type": "code",
   "execution_count": 2,
   "metadata": {},
   "outputs": [],
   "source": [
    "API_KEY = \"\"\n",
    "API_SECRET = \"\"\n",
    "username = \"\"\n",
    "password_hash = pylast.md5(\"\")"
   ]
  },
  {
   "cell_type": "code",
   "execution_count": 3,
   "metadata": {},
   "outputs": [],
   "source": [
    "network = pylast.LastFMNetwork(\n",
    "    api_key=API_KEY,\n",
    "    api_secret=API_SECRET,\n",
    "    username=username,\n",
    "    password_hash=password_hash,\n",
    ")\n",
    "\n",
    "user = network.get_authenticated_user()"
   ]
  },
  {
   "cell_type": "code",
   "execution_count": 4,
   "metadata": {},
   "outputs": [],
   "source": [
    "test = user.get_recent_tracks(limit=None)"
   ]
  },
  {
   "cell_type": "code",
   "execution_count": 5,
   "metadata": {},
   "outputs": [],
   "source": [
    "def get_details(scrobble):\n",
    "    ts = pd.to_datetime(scrobble.timestamp, unit=\"s\").tz_localize('UTC').tz_convert('Europe/Helsinki')\n",
    "    track = scrobble.track\n",
    "    # tags = track.get_top_tags(3)\n",
    "    # genres = tuple(tag.item.name for tag in tags)\n",
    "    title = track.title\n",
    "    artist = track.artist.name\n",
    "    album = scrobble.album\n",
    "    \n",
    "    return ts, title, artist, album #, genres"
   ]
  },
  {
   "cell_type": "code",
   "execution_count": 6,
   "metadata": {},
   "outputs": [],
   "source": [
    "df = pd.DataFrame([get_details(scrobble) for scrobble in test], \n",
    "                  columns=[\"ts\", \"track\", \"artist\", \"album\"])\n",
    "df.set_index(\"ts\", inplace=True)"
   ]
  },
  {
   "cell_type": "code",
   "execution_count": 45,
   "metadata": {},
   "outputs": [],
   "source": [
    "with open(\"ts_scrobbles.csv\", \"w+\") as f:\n",
    "    s = df.to_csv()\n",
    "    f.write(s)"
   ]
  },
  {
   "cell_type": "code",
   "execution_count": null,
   "metadata": {},
   "outputs": [],
   "source": []
  }
 ],
 "metadata": {
  "kernelspec": {
   "display_name": "Python 3",
   "language": "python",
   "name": "python3"
  },
  "language_info": {
   "codemirror_mode": {
    "name": "ipython",
    "version": 3
   },
   "file_extension": ".py",
   "mimetype": "text/x-python",
   "name": "python",
   "nbconvert_exporter": "python",
   "pygments_lexer": "ipython3",
   "version": "3.8.5"
  }
 },
 "nbformat": 4,
 "nbformat_minor": 4
}